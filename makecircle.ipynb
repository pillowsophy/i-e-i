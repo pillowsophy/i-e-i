{
 "cells": [
  {
   "cell_type": "code",
   "execution_count": 1,
   "metadata": {},
   "outputs": [],
   "source": [
    "from algorithms.preprocessing import get_data, word_by_sent, wbys_to_word, word_to_idx, idx_by_sent\n",
    "# text = get_data('data/EI_original copy.txt')\n",
    "text = get_data()\n",
    "wbys = word_by_sent(text)\n",
    "wordlist = wbys_to_word(wbys)\n",
    "wtoi = word_to_idx(wordlist)\n",
    "ibys = idx_by_sent(wbys, wtoi)"
   ]
  },
  {
   "cell_type": "code",
   "execution_count": 2,
   "metadata": {},
   "outputs": [],
   "source": [
    "from algorithms.textrank import count_window, textrank_keyword, textrank_graph,keywords_to_nodes \n",
    "counter = count_window(ibys, 5)\n",
    "mainkeywords = textrank_keyword(ibys, wordlist)\n",
    "g_words = textrank_keyword(ibys, wordlist, onlyWords=True)"
   ]
  },
  {
   "cell_type": "code",
   "execution_count": 3,
   "metadata": {},
   "outputs": [],
   "source": [
    "import algorithms.visualization as vis\n",
    "import networkx as nx\n",
    "\n",
    "cnt_draw = vis.counter_draw(counter,g_words)\n",
    "IG = vis.initialGraph(cnt_draw,g_words)\n",
    "vis.communityGraph(IG)\n",
    "subnodes = keywords_to_nodes(mainkeywords)\n",
    "nx.set_node_attributes(IG, subnodes)\n",
    "\n",
    "comms = nx.get_node_attributes(IG, 'comm')\n",
    "weights = nx.get_node_attributes(IG, 'weight')"
   ]
  },
  {
   "cell_type": "code",
   "execution_count": 4,
   "metadata": {},
   "outputs": [],
   "source": [
    "import pandas as pd"
   ]
  },
  {
   "cell_type": "code",
   "execution_count": 5,
   "metadata": {},
   "outputs": [
    {
     "data": {
      "text/plain": [
       "bars         0\n",
       "bar          0\n",
       "saturated    0\n",
       "fat          0\n",
       "energy       1\n",
       "            ..\n",
       "watch        7\n",
       "example      6\n",
       "granola      6\n",
       "sugar        6\n",
       "low          6\n",
       "Name: comm, Length: 96, dtype: int64"
      ]
     },
     "execution_count": 5,
     "metadata": {},
     "output_type": "execute_result"
    }
   ],
   "source": [
    "pdc = pd.Series(comms, name='comm')\n",
    "pdc"
   ]
  },
  {
   "cell_type": "code",
   "execution_count": 6,
   "metadata": {},
   "outputs": [
    {
     "data": {
      "text/plain": [
       "bars         52\n",
       "bar          29\n",
       "saturated    26\n",
       "fat          26\n",
       "energy       19\n",
       "             ..\n",
       "watch         3\n",
       "example       3\n",
       "granola       3\n",
       "sugar         3\n",
       "low           3\n",
       "Name: weight, Length: 96, dtype: int64"
      ]
     },
     "execution_count": 6,
     "metadata": {},
     "output_type": "execute_result"
    }
   ],
   "source": [
    "pdw = pd.Series(weights, name='weight')\n",
    "pdw"
   ]
  },
  {
   "cell_type": "code",
   "execution_count": 7,
   "metadata": {},
   "outputs": [
    {
     "data": {
      "text/html": [
       "<div>\n",
       "<style scoped>\n",
       "    .dataframe tbody tr th:only-of-type {\n",
       "        vertical-align: middle;\n",
       "    }\n",
       "\n",
       "    .dataframe tbody tr th {\n",
       "        vertical-align: top;\n",
       "    }\n",
       "\n",
       "    .dataframe thead th {\n",
       "        text-align: right;\n",
       "    }\n",
       "</style>\n",
       "<table border=\"1\" class=\"dataframe\">\n",
       "  <thead>\n",
       "    <tr style=\"text-align: right;\">\n",
       "      <th></th>\n",
       "      <th>comm</th>\n",
       "      <th>weight</th>\n",
       "    </tr>\n",
       "  </thead>\n",
       "  <tbody>\n",
       "    <tr>\n",
       "      <th>bars</th>\n",
       "      <td>0</td>\n",
       "      <td>52</td>\n",
       "    </tr>\n",
       "    <tr>\n",
       "      <th>bar</th>\n",
       "      <td>0</td>\n",
       "      <td>29</td>\n",
       "    </tr>\n",
       "    <tr>\n",
       "      <th>saturated</th>\n",
       "      <td>0</td>\n",
       "      <td>26</td>\n",
       "    </tr>\n",
       "    <tr>\n",
       "      <th>fat</th>\n",
       "      <td>0</td>\n",
       "      <td>26</td>\n",
       "    </tr>\n",
       "    <tr>\n",
       "      <th>energy</th>\n",
       "      <td>1</td>\n",
       "      <td>19</td>\n",
       "    </tr>\n",
       "    <tr>\n",
       "      <th>...</th>\n",
       "      <td>...</td>\n",
       "      <td>...</td>\n",
       "    </tr>\n",
       "    <tr>\n",
       "      <th>watch</th>\n",
       "      <td>7</td>\n",
       "      <td>3</td>\n",
       "    </tr>\n",
       "    <tr>\n",
       "      <th>example</th>\n",
       "      <td>6</td>\n",
       "      <td>3</td>\n",
       "    </tr>\n",
       "    <tr>\n",
       "      <th>granola</th>\n",
       "      <td>6</td>\n",
       "      <td>3</td>\n",
       "    </tr>\n",
       "    <tr>\n",
       "      <th>sugar</th>\n",
       "      <td>6</td>\n",
       "      <td>3</td>\n",
       "    </tr>\n",
       "    <tr>\n",
       "      <th>low</th>\n",
       "      <td>6</td>\n",
       "      <td>3</td>\n",
       "    </tr>\n",
       "  </tbody>\n",
       "</table>\n",
       "<p>96 rows × 2 columns</p>\n",
       "</div>"
      ],
      "text/plain": [
       "           comm  weight\n",
       "bars          0      52\n",
       "bar           0      29\n",
       "saturated     0      26\n",
       "fat           0      26\n",
       "energy        1      19\n",
       "...         ...     ...\n",
       "watch         7       3\n",
       "example       6       3\n",
       "granola       6       3\n",
       "sugar         6       3\n",
       "low           6       3\n",
       "\n",
       "[96 rows x 2 columns]"
      ]
     },
     "execution_count": 7,
     "metadata": {},
     "output_type": "execute_result"
    }
   ],
   "source": [
    "data = pd.concat([pdc, pdw], axis=1)\n",
    "data"
   ]
  },
  {
   "cell_type": "code",
   "execution_count": 8,
   "metadata": {},
   "outputs": [
    {
     "data": {
      "text/html": [
       "<div>\n",
       "<style scoped>\n",
       "    .dataframe tbody tr th:only-of-type {\n",
       "        vertical-align: middle;\n",
       "    }\n",
       "\n",
       "    .dataframe tbody tr th {\n",
       "        vertical-align: top;\n",
       "    }\n",
       "\n",
       "    .dataframe thead th {\n",
       "        text-align: right;\n",
       "    }\n",
       "</style>\n",
       "<table border=\"1\" class=\"dataframe\">\n",
       "  <thead>\n",
       "    <tr style=\"text-align: right;\">\n",
       "      <th></th>\n",
       "      <th>comm</th>\n",
       "      <th>weight</th>\n",
       "    </tr>\n",
       "  </thead>\n",
       "  <tbody>\n",
       "    <tr>\n",
       "      <th>bars</th>\n",
       "      <td>0</td>\n",
       "      <td>52</td>\n",
       "    </tr>\n",
       "    <tr>\n",
       "      <th>bar</th>\n",
       "      <td>0</td>\n",
       "      <td>29</td>\n",
       "    </tr>\n",
       "    <tr>\n",
       "      <th>saturated</th>\n",
       "      <td>0</td>\n",
       "      <td>26</td>\n",
       "    </tr>\n",
       "    <tr>\n",
       "      <th>fat</th>\n",
       "      <td>0</td>\n",
       "      <td>26</td>\n",
       "    </tr>\n",
       "    <tr>\n",
       "      <th>oil</th>\n",
       "      <td>0</td>\n",
       "      <td>10</td>\n",
       "    </tr>\n",
       "    <tr>\n",
       "      <th>...</th>\n",
       "      <td>...</td>\n",
       "      <td>...</td>\n",
       "    </tr>\n",
       "    <tr>\n",
       "      <th>pick</th>\n",
       "      <td>7</td>\n",
       "      <td>4</td>\n",
       "    </tr>\n",
       "    <tr>\n",
       "      <th>general</th>\n",
       "      <td>7</td>\n",
       "      <td>4</td>\n",
       "    </tr>\n",
       "    <tr>\n",
       "      <th>equal</th>\n",
       "      <td>7</td>\n",
       "      <td>3</td>\n",
       "    </tr>\n",
       "    <tr>\n",
       "      <th>afford</th>\n",
       "      <td>7</td>\n",
       "      <td>3</td>\n",
       "    </tr>\n",
       "    <tr>\n",
       "      <th>watch</th>\n",
       "      <td>7</td>\n",
       "      <td>3</td>\n",
       "    </tr>\n",
       "  </tbody>\n",
       "</table>\n",
       "<p>96 rows × 2 columns</p>\n",
       "</div>"
      ],
      "text/plain": [
       "           comm  weight\n",
       "bars          0      52\n",
       "bar           0      29\n",
       "saturated     0      26\n",
       "fat           0      26\n",
       "oil           0      10\n",
       "...         ...     ...\n",
       "pick          7       4\n",
       "general       7       4\n",
       "equal         7       3\n",
       "afford        7       3\n",
       "watch         7       3\n",
       "\n",
       "[96 rows x 2 columns]"
      ]
     },
     "execution_count": 8,
     "metadata": {},
     "output_type": "execute_result"
    }
   ],
   "source": [
    "data = data.sort_values(by=['comm','weight'], ascending=[True, False])\n",
    "data"
   ]
  },
  {
   "cell_type": "code",
   "execution_count": 58,
   "metadata": {},
   "outputs": [
    {
     "name": "stdout",
     "output_type": "stream",
     "text": [
      "{'name': 'my_cp_v2', 'children': [{'name': 'bars', 'children': [{'name': 'different', 'children': [{'name': 'snacks', 'size': 7}, {'name': 'meals', 'size': 7}, {'name': 'boost', 'size': 7}, {'name': 'meal', 'size': 7}, {'name': 'limit', 'size': 7}]}, {'name': 'bar', 'children': [{'name': 'saturated', 'children': [{'name': 'fat', 'size': 26}]}, {'name': 'nutritional', 'children': [{'name': 'vitamins', 'size': 10}, {'name': 'dinner', 'size': 10}, {'name': 'replacement', 'size': 9}]}, {'name': 'fiber', 'children': [{'name': 'oil', 'size': 10}]}]}, {'name': 'better', 'children': [{'name': 'vary', 'size': 8}, {'name': 'invert', 'size': 8}, {'name': 'cane', 'size': 8}]}]}, {'name': 'energy', 'children': [{'name': 'word', 'children': [{'name': 'like', 'size': 4}]}, {'name': 'gaps', 'children': [{'name': 'fortified', 'size': 5}, {'name': 'closely', 'size': 4}]}, {'name': 'significantly', 'children': [{'name': 'ingredients', 'size': 8}, {'name': 'palates', 'size': 4}]}, {'name': 'wide', 'children': []}, {'name': 'containing', 'children': []}]}]}\n"
     ]
    }
   ],
   "source": [
    "\n",
    "def makeCircle(newlist):\n",
    "    if(len(newlist) < 7):\n",
    "        outercircle = []\n",
    "        for w in newlist:\n",
    "            outercircle.append({\"name\": w, \"size\": weights[w]})\n",
    "        return outercircle\n",
    "    \n",
    "    SG = IG.subgraph(newlist) # 기존 그래프가 있어야 간편\n",
    "    vis.communityGraph(SG)\n",
    "    newcomms = nx.get_node_attributes(SG, 'comm')\n",
    "    \n",
    "    newweights = {}\n",
    "    for k, v in newcomms.items():\n",
    "        newweights[k] = weights[k]\n",
    "        \n",
    "    pdc = pd.Series(newcomms, name='comm')\n",
    "    pdw = pd.Series(newweights, name='weight')\n",
    "    df = pd.concat([pdc, pdw], axis=1)\n",
    "    df = df.sort_values(by=['comm','weight'], ascending=[True, False])\n",
    "    \n",
    "    outercircle = []\n",
    "    idx = 0\n",
    "    for c in range(len(df.groupby('comm').size())):\n",
    "        newList = []\n",
    "        # make new list by each commynities\n",
    "        for j, w in enumerate(df.index[df['comm'] == c]):\n",
    "            if (j == 0):\n",
    "                innercircle = {\"name\": df.iloc[idx].name}\n",
    "                idx += df.groupby('comm').size()[c]\n",
    "            else:\n",
    "                newList.append(w)\n",
    "        innercircle[\"children\"] = makeCircle(newList)\n",
    "        outercircle.append(innercircle)\n",
    "            \n",
    "    return outercircle\n",
    "\n",
    "\n",
    "outercircle = {\"name\": \"my_cp_v2\", \"children\": []}\n",
    "idx = 0\n",
    "for c in range(2): #len(df.groupby('comm').size())\n",
    "    newList = []\n",
    "    # make new list by each commynities\n",
    "    for j, w in enumerate(data.index[data['comm'] == c]):\n",
    "        if (j == 0):\n",
    "            innercircle = {\"name\": data.iloc[idx].name}\n",
    "            idx += data.groupby('comm').size()[c]\n",
    "        else:\n",
    "            newList.append(w)\n",
    "    innercircle[\"children\"] = makeCircle(newList)\n",
    "    outercircle[\"children\"].append(innercircle)\n",
    "print(outercircle)"
   ]
  },
  {
   "cell_type": "code",
   "execution_count": null,
   "metadata": {},
   "outputs": [],
   "source": []
  }
 ],
 "metadata": {
  "kernelspec": {
   "display_name": "Python 3",
   "language": "python",
   "name": "python3"
  },
  "language_info": {
   "codemirror_mode": {
    "name": "ipython",
    "version": 3
   },
   "file_extension": ".py",
   "mimetype": "text/x-python",
   "name": "python",
   "nbconvert_exporter": "python",
   "pygments_lexer": "ipython3",
   "version": "3.8.3"
  }
 },
 "nbformat": 4,
 "nbformat_minor": 4
}
